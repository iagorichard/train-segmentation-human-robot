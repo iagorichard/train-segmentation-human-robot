{
 "cells": [
  {
   "cell_type": "code",
   "execution_count": 69,
   "metadata": {},
   "outputs": [],
   "source": [
    "import os\n",
    "from pathlib import Path\n",
    "import re\n",
    "import random\n",
    "from sklearn.model_selection import KFold\n",
    "from PIL import Image\n",
    "from torchvision import transforms\n",
    "from torch.utils.data import Dataset, DataLoader\n",
    "import json\n",
    "from tqdm import tqdm\n",
    "import numpy as np\n",
    "import cv2\n",
    "import matplotlib.pyplot as plt\n",
    "import torch\n",
    "from models.unet import UNet\n",
    "import torch.nn as nn\n",
    "import torch.optim as optim"
   ]
  },
  {
   "cell_type": "code",
   "execution_count": 86,
   "metadata": {},
   "outputs": [],
   "source": [
    "def draw_contours(contours):\n",
    "    # Criar uma imagem binária inicializada com valores 0 (preto)\n",
    "    imagem_binaria = np.zeros((256, 256), dtype=np.uint8)\n",
    "\n",
    "    # Verificar o número de contornos\n",
    "    if len(contours) == 1:\n",
    "        # Caso haja apenas um contorno, converte e desenha diretamente\n",
    "        contornos_np = np.array(contours[0], dtype=np.int32)\n",
    "        cv2.drawContours(imagem_binaria, [contornos_np], -1, (255, 255, 255), thickness=cv2.FILLED)\n",
    "    elif len(contours) == 0:\n",
    "        return imagem_binaria\n",
    "    else:\n",
    "        # Caso haja mais de um contorno, converte cada um e desenha\n",
    "        for contorno in contours:\n",
    "            contornos_np = np.array(contorno, dtype=np.int32)\n",
    "            cv2.drawContours(imagem_binaria, [contornos_np], -1, (255, 255, 255), thickness=cv2.FILLED)\n",
    "\n",
    "    return imagem_binaria\n",
    "    \n",
    "\n",
    "def organize_masks(dataset_masks, data, camera, frame):\n",
    "    \n",
    "    dict_human = dataset_masks[f'{data}']\n",
    "    dict_robot = dataset_masks[f'{data}_robot']\n",
    "    \n",
    "    for _, all_masks_found in dict_human.items():\n",
    "        masks_data_camera = all_masks_found[f'subimage_{camera}']\n",
    "        #print(len(masks_data_camera))\n",
    "        contours_human = masks_data_camera[frame]\n",
    "    \n",
    "    for _, all_masks_found in dict_robot.items():\n",
    "        masks_data_camera = all_masks_found[f'subimage_{camera}']\n",
    "        #print(len(masks_data_camera))\n",
    "        contours_robot = masks_data_camera[frame]\n",
    "        \n",
    "        #print(contours_human)\n",
    "        \n",
    "    \n",
    "    return draw_contours(contours_human), draw_contours(contours_robot)\n",
    "        \n",
    "        \n",
    "def transform_masks(mask_human, mask_robot, mask_mode=None):\n",
    "    \n",
    "    mask_human = np.where(mask_human > 0, 1, 0)\n",
    "    mask_robot = np.where(mask_robot > 0, 1, 0)\n",
    "    \n",
    "    # Processar a máscara conforme o modo selecionado\n",
    "    if mask_mode == \"entropy\":\n",
    "        # Resolver sobreposição: prioridade para robô (ou humano, se preferir)\n",
    "        mask = np.maximum(mask_robot, mask_human)\n",
    "\n",
    "        # Converte a máscara para um tensor PyTorch e adiciona uma dimensão para o canal\n",
    "        mask_tensor = torch.tensor(mask, dtype=torch.long).unsqueeze(0)\n",
    "    else:\n",
    "        # Cria uma máscara onde cada canal representa uma classe\n",
    "        m, n = mask_human.shape\n",
    "        mask = np.zeros((3, m, n), dtype=np.float32)\n",
    "        mask[0] = 1 - (mask_human + mask_robot)  # Background\n",
    "        mask[1] = mask_human  # Humano\n",
    "        mask[2] = mask_robot  # Robô\n",
    "        # Converte a máscara para um tensor PyTorch\n",
    "        mask_tensor = torch.tensor(mask, dtype=torch.float32)\n",
    "        \n",
    "    return mask_tensor\n",
    "\n",
    "\n",
    "# Define a custom dataset class\n",
    "class CustomImageDataset(Dataset):\n",
    "    def __init__(self, image_paths, masks, transform=None, mask_mode=None):\n",
    "        self.image_paths = image_paths\n",
    "        self.masks = masks\n",
    "        self.transform = transform\n",
    "        self.mask_mode = mask_mode\n",
    "\n",
    "    def __len__(self):\n",
    "        return len(self.image_paths)\n",
    "\n",
    "    def __getitem__(self, idx):\n",
    "        img_path = self.image_paths[idx]\n",
    "        #_, file_base_name = os.path.split(img_path)\n",
    "        file_base_name = os.path.split(img_path)[1].split(\".\")[0]\n",
    "        data, frame, camera = self.__get_mask_info__(file_base_name)\n",
    "        #print(data, frame, camera)\n",
    "        \n",
    "        mask_human, mask_robot = organize_masks(self.masks, data, int(camera), int(frame))\n",
    "        mask_tensor = transform_masks(mask_human, mask_robot, self.mask_mode)\n",
    "        \n",
    "        \n",
    "        image = Image.open(img_path).convert(\"RGB\")\n",
    "        if self.transform:\n",
    "            image = self.transform(image)\n",
    "        return image, mask_tensor\n",
    "    \n",
    "    def __get_mask_info__(self, strx):\n",
    "        sub, act, rout, frame, camera = strx.split(\"_\")\n",
    "        return f\"{sub}_{act}_{rout}\", frame, camera"
   ]
  },
  {
   "cell_type": "code",
   "execution_count": null,
   "metadata": {},
   "outputs": [],
   "source": [
    "def extrair_numero_regex(texto):\n",
    "    padrao = r'\\d+'\n",
    "    numeros = re.findall(padrao, texto)\n",
    "    if numeros:\n",
    "        return numeros[0]\n",
    "    else:\n",
    "        return None\n",
    "\n",
    "\n",
    "def process_json_namefile(strx):\n",
    "\n",
    "    splited = strx.split(\"_\")\n",
    "    formated = f\"{int(extrair_numero_regex(splited[0]))}_{int(extrair_numero_regex(splited[1]))}_{int(extrair_numero_regex(splited[2]))}\"\n",
    "\n",
    "    if \"robot\" in strx:\n",
    "        formated += \"_robot\"\n",
    "        \n",
    "    return formated\n",
    "\n",
    "    \n",
    "def load_dataset_masks(pasta):\n",
    "    # Inicializa o dicionário para armazenar os dados\n",
    "    dados_json = {}\n",
    "\n",
    "    # Lista todos os arquivos na pasta\n",
    "    arquivos = os.listdir(pasta)\n",
    "\n",
    "    # Filtra apenas os arquivos JSON\n",
    "    arquivos_json = [arquivo for arquivo in arquivos if arquivo.endswith('.json')]\n",
    "\n",
    "    # Processa cada arquivo JSON encontrado\n",
    "    for arquivo_json in tqdm(arquivos_json):\n",
    "        caminho_completo = os.path.join(pasta, arquivo_json)\n",
    "        nome_arquivo = os.path.basename(arquivo_json)\n",
    "\n",
    "        # Carrega o conteúdo do arquivo JSON como um dicionário\n",
    "        with open(caminho_completo, 'r', encoding='utf-8') as f:\n",
    "            conteudo = json.load(f)\n",
    "        \n",
    "        # Adiciona ao dicionário final usando o nome do arquivo como chave\n",
    "        dados_json[process_json_namefile(nome_arquivo)] = conteudo\n",
    "    \n",
    "    return dados_json\n",
    "\n",
    "\n",
    "def load_image_paths(directory):\n",
    "    \"\"\"Loads all image paths from the specified directory.\"\"\"\n",
    "    path = Path(directory)\n",
    "    image_paths = list(path.glob('*.jpg'))\n",
    "    return [str(img) for img in image_paths]\n",
    "\n",
    "\n",
    "def group_images_by_prefix(image_paths):\n",
    "    \"\"\"Groups images by their prefix NUMSUBJECT_NUMACTIVITY_NUM_ROUTINE.\"\"\"\n",
    "    pattern = re.compile(r'(\\d+)_(\\d+)_(\\d+)_\\d+_\\d+.jpg')\n",
    "    grouped = {}\n",
    "    for img_path in image_paths:\n",
    "        match = pattern.search(os.path.basename(img_path))\n",
    "        if match:\n",
    "            prefix = f\"{match.group(1)}_{match.group(2)}_{match.group(3)}\"\n",
    "            if prefix not in grouped:\n",
    "                grouped[prefix] = []\n",
    "            grouped[prefix].append(img_path)\n",
    "    return list(grouped.values())\n",
    "\n",
    "\n",
    "def create_dataloaders(image_groups, dataset_masks, n_splits=5, batch_size=32, transform=None, mask_mode=None):\n",
    "    \"\"\"Creates DataLoaders for cross-validation.\"\"\"\n",
    "    kf = KFold(n_splits=n_splits, shuffle=True, random_state=42)\n",
    "    dataloaders = []\n",
    "    \n",
    "    for train_index, val_index in kf.split(image_groups):\n",
    "        train_images = [img for i in train_index for img in image_groups[i]]\n",
    "        val_images = [img for i in val_index for img in image_groups[i]]\n",
    "        \n",
    "        train_dataset = CustomImageDataset(train_images, dataset_masks, transform, mask_mode)\n",
    "        val_dataset = CustomImageDataset(val_images, dataset_masks, transform, mask_mode)\n",
    "        \n",
    "        train_loader = DataLoader(train_dataset, batch_size=batch_size, shuffle=True)\n",
    "        val_loader = DataLoader(val_dataset, batch_size=batch_size, shuffle=False)\n",
    "        \n",
    "        dataloaders.append((train_loader, val_loader))\n",
    "    \n",
    "    return dataloaders\n",
    "\n",
    "\n",
    "def show_masks(mask):\n",
    "    plt.imshow(mask, cmap='gray')  # cmap='gray' garante que a imagem será mostrada em tons de cinza\n",
    "    plt.title('Imagem de um canal')\n",
    "    plt.colorbar()  # Adiciona uma barra de cores para referência\n",
    "    plt.show()"
   ]
  },
  {
   "cell_type": "code",
   "execution_count": 76,
   "metadata": {},
   "outputs": [],
   "source": [
    "SEED = 42\n",
    "random.seed(SEED)\n",
    "np.random.seed(SEED)\n",
    "torch.manual_seed(SEED)\n",
    "torch.cuda.manual_seed(SEED)"
   ]
  },
  {
   "cell_type": "code",
   "execution_count": 77,
   "metadata": {},
   "outputs": [],
   "source": [
    "image_directory = \"C:/Users/iagor/Documents/git/data-definer/out/\"\n",
    "mask_directory = \"C:/Users/iagor/Documents/git/human-segmentation-sam/out/\"\n",
    "batch_size = 32\n",
    "n_splits = 5\n",
    "    \n",
    "transform = transforms.Compose([\n",
    "        transforms.Resize((256, 256)),\n",
    "        transforms.ToTensor(),\n",
    "    ])"
   ]
  },
  {
   "cell_type": "code",
   "execution_count": 44,
   "metadata": {},
   "outputs": [
    {
     "name": "stderr",
     "output_type": "stream",
     "text": [
      "100%|██████████| 216/216 [00:58<00:00,  3.66it/s]\n"
     ]
    }
   ],
   "source": [
    "dataset_masks = load_dataset_masks(mask_directory)\n",
    "mask_mode = \"entropy\""
   ]
  },
  {
   "cell_type": "code",
   "execution_count": 78,
   "metadata": {},
   "outputs": [],
   "source": [
    "#hyper\n",
    "num_epochs = 10\n",
    "learning_rate = 0.001\n",
    "\n",
    "# Model, loss, optimizer\n",
    "model = UNet(n_channels=3, n_classes=3, bilinear=True)\n",
    "criterion = nn.CrossEntropyLoss()\n",
    "optimizer = optim.Adam(model.parameters(), lr=learning_rate)"
   ]
  },
  {
   "cell_type": "code",
   "execution_count": 87,
   "metadata": {},
   "outputs": [
    {
     "name": "stdout",
     "output_type": "stream",
     "text": [
      "Fold 1\n"
     ]
    }
   ],
   "source": [
    "image_paths = load_image_paths(image_directory)\n",
    "image_groups = group_images_by_prefix(image_paths)\n",
    "dataloaders = create_dataloaders(image_groups, dataset_masks, n_splits, batch_size, transform, mask_mode)    \n",
    "    \n",
    "for fold, (train_loader, val_loader) in enumerate(dataloaders):\n",
    "    print(f\"Fold {fold+1}\")\n",
    "    # for images, masks in train_loader:\n",
    "    #     print(f\"Train batch: {images.size()} and {masks.size()}\")\n",
    "    # for images, masks in val_loader:\n",
    "    #     print(f\"Validation batch: {images.size()} and {masks.size()}\")\n",
    "    for epoch in range(num_epochs):\n",
    "        model.train()\n",
    "        running_loss = 0.0\n",
    "        for images, masks in train_loader:\n",
    "            optimizer.zero_grad()\n",
    "            outputs = model(images)\n",
    "            masks = masks.long()\n",
    "            loss = criterion(outputs, masks.squeeze(1))\n",
    "            loss.backward()\n",
    "            optimizer.step()\n",
    "            running_loss += loss.item() * images.size(0)\n",
    "\n",
    "        epoch_loss = running_loss / len(train_loader.dataset)\n",
    "        print(f\"Fold {fold+1}, Epoch {epoch+1}, Training Loss: {epoch_loss:.4f}\")\n",
    "\n",
    "        model.eval()\n",
    "        val_loss = 0.0\n",
    "        with torch.no_grad():\n",
    "            for images, masks in val_loader:\n",
    "                outputs = model(images)\n",
    "                masks = masks.long()\n",
    "                loss = criterion(outputs, masks.squeeze(1))\n",
    "                val_loss += loss.item() * images.size(0)\n",
    "\n",
    "        val_loss = val_loss / len(val_loader.dataset)\n",
    "        print(f\"Fold {fold+1}, Epoch {epoch+1}, Validation Loss: {val_loss:.4f}\")\n",
    "    \n"
   ]
  },
  {
   "cell_type": "code",
   "execution_count": 81,
   "metadata": {},
   "outputs": [
    {
     "data": {
      "text/plain": [
       "tensor([0, 1, 2, 3])"
      ]
     },
     "execution_count": 81,
     "metadata": {},
     "output_type": "execute_result"
    }
   ],
   "source": [
    "torch.unique(masks)"
   ]
  },
  {
   "cell_type": "code",
   "execution_count": 84,
   "metadata": {},
   "outputs": [
    {
     "name": "stdout",
     "output_type": "stream",
     "text": [
      "Fold 1\n",
      "Found a mask with value 3\n"
     ]
    },
    {
     "data": {
      "image/png": "[encoded data removed]",
      "text/plain": [
       "<Figure size 360x360 with 1 Axes>"
      ]
     },
     "metadata": {
      "needs_background": "light"
     },
     "output_type": "display_data"
    },
    {
     "name": "stdout",
     "output_type": "stream",
     "text": [
      "Fold 2\n",
      "Found a mask with value 3\n"
     ]
    },
    {
     "data": {
      "image/png": "[encoded data removed]",
      "text/plain": [
       "<Figure size 360x360 with 1 Axes>"
      ]
     },
     "metadata": {
      "needs_background": "light"
     },
     "output_type": "display_data"
    },
    {
     "name": "stdout",
     "output_type": "stream",
     "text": [
      "Fold 3\n",
      "Found a mask with value 3\n"
     ]
    },
    {
     "data": {
      "image/png": "[encoded data removed]",
      "text/plain": [
       "<Figure size 360x360 with 1 Axes>"
      ]
     },
     "metadata": {
      "needs_background": "light"
     },
     "output_type": "display_data"
    },
    {
     "name": "stdout",
     "output_type": "stream",
     "text": [
      "Fold 4\n",
      "Found a mask with value 3\n"
     ]
    },
    {
     "data": {
      "image/png": "[encoded data removed]",
      "text/plain": [
       "<Figure size 360x360 with 1 Axes>"
      ]
     },
     "metadata": {
      "needs_background": "light"
     },
     "output_type": "display_data"
    },
    {
     "name": "stdout",
     "output_type": "stream",
     "text": [
      "Fold 5\n",
      "Found a mask with value 3\n"
     ]
    },
    {
     "data": {
      "image/png": "[encoded data removed]",
      "text/plain": [
       "<Figure size 360x360 with 1 Axes>"
      ]
     },
     "metadata": {
      "needs_background": "light"
     },
     "output_type": "display_data"
    }
   ],
   "source": [
    "def visualize_mask(mask):\n",
    "    plt.figure(figsize=(5, 5))\n",
    "    mask = mask.squeeze(0).cpu().numpy()\n",
    "    plt.imshow(mask, cmap='gray')\n",
    "    plt.title('Mask')\n",
    "    plt.axis('off')\n",
    "    plt.show()\n",
    "\n",
    "# Assuming dataloaders and model are already defined as in previous code\n",
    "for fold, (train_loader, val_loader) in enumerate(dataloaders):\n",
    "    print(f\"Fold {fold+1}\")\n",
    "    \n",
    "    for images, masks in train_loader:\n",
    "        for mask in masks:\n",
    "            if 3 in torch.unique(mask):\n",
    "                print(\"Found a mask with value 3\")\n",
    "                visualize_mask(mask)\n",
    "                break  # Visualize only the first problematic mask\n",
    "        break  # Check only the first batch for simplicity"
   ]
  },
  {
   "cell_type": "code",
   "execution_count": 82,
   "metadata": {},
   "outputs": [
    {
     "data": {
      "image/png": "[encoded data removed]",
      "text/plain": [
       "<Figure size 360x360 with 1 Axes>"
      ]
     },
     "metadata": {
      "needs_background": "light"
     },
     "output_type": "display_data"
    }
   ],
   "source": [
    "plt.figure(figsize=(5, 5))\n",
    "mask = masks[0].squeeze(0).cpu().numpy()\n",
    "plt.imshow(mask, cmap='gray')\n",
    "plt.title('Mask')\n",
    "plt.axis('off')\n",
    "plt.show()"
   ]
  },
  {
   "cell_type": "code",
   "execution_count": 53,
   "metadata": {},
   "outputs": [
    {
     "name": "stdout",
     "output_type": "stream",
     "text": [
      "torch.Size([1, 3, 256, 256])\n"
     ]
    },
    {
     "data": {
      "image/png": "[encoded data removed]",
      "text/plain": [
       "<Figure size 432x288 with 2 Axes>"
      ]
     },
     "metadata": {
      "needs_background": "light"
     },
     "output_type": "display_data"
    },
    {
     "data": {
      "image/png": "[encoded data removed]",
      "text/plain": [
       "<Figure size 432x288 with 2 Axes>"
      ]
     },
     "metadata": {
      "needs_background": "light"
     },
     "output_type": "display_data"
    }
   ],
   "source": [
    "def transform_masks(mask_human, mask_robot, mask_mode=None):\n",
    "    \n",
    "    # Processar a máscara conforme o modo selecionado\n",
    "    if mask_mode == \"entropy\":\n",
    "        # Cria uma máscara onde a perda de entropia cruzada pode ser aplicada\n",
    "        mask = mask_human + (mask_robot * 2)\n",
    "    else:\n",
    "        # Cria uma máscara onde cada canal representa uma classe\n",
    "        m, n = mask_human.shape\n",
    "        mask = np.zeros((3, m, n), dtype=np.float32)\n",
    "        mask[0] = 1 - (mask_human + mask_robot)  # Background\n",
    "        mask[1] = mask_human  # Humano\n",
    "        mask[2] = mask_robot  # Robô\n",
    "        \n",
    "    # Converte a máscara para um tensor PyTorch\n",
    "    mask_tensor = torch.tensor(mask, dtype=torch.float32)\n",
    "\n",
    "    # Expande a dimensão do tensor da máscara para corresponder ao batch\n",
    "    mask_tensor = mask_tensor.unsqueeze(0)\n",
    "    \n",
    "    return mask_tensor\n",
    "\n",
    "\n",
    "def draw_contours(contours):\n",
    "    # Criar uma imagem binária inicializada com valores 0 (preto)\n",
    "    imagem_binaria = np.zeros((256, 256), dtype=np.uint8)\n",
    "\n",
    "    # Verificar o número de contornos\n",
    "    if len(contours) == 1:\n",
    "        # Caso haja apenas um contorno, converte e desenha diretamente\n",
    "        contornos_np = np.array(contours[0], dtype=np.int32)\n",
    "        cv2.drawContours(imagem_binaria, [contornos_np], -1, (255, 255, 255), thickness=cv2.FILLED)\n",
    "    elif len(contours) == 0:\n",
    "        return imagem_binaria\n",
    "    else:\n",
    "        # Caso haja mais de um contorno, converte cada um e desenha\n",
    "        for contorno in contours:\n",
    "            contornos_np = np.array(contorno, dtype=np.int32)\n",
    "            cv2.drawContours(imagem_binaria, [contornos_np], -1, (255, 255, 255), thickness=cv2.FILLED)\n",
    "\n",
    "    return imagem_binaria\n",
    "    \n",
    "\n",
    "def organize_masks(dataset_masks, data, camera, frame):\n",
    "    \n",
    "    dict_human = dataset_masks[f'{data}']\n",
    "    dict_robot = dataset_masks[f'{data}_robot']\n",
    "    \n",
    "    for _, all_masks_found in dict_human.items():\n",
    "        masks_data_camera = all_masks_found[f'subimage_{camera}']\n",
    "        #print(len(masks_data_camera))\n",
    "        contours_human = masks_data_camera[frame]\n",
    "    \n",
    "    for _, all_masks_found in dict_robot.items():\n",
    "        masks_data_camera = all_masks_found[f'subimage_{camera}']\n",
    "        #print(len(masks_data_camera))\n",
    "        contours_robot = masks_data_camera[frame]\n",
    "        \n",
    "        #print(contours_human)\n",
    "        \n",
    "    \n",
    "    return draw_contours(contours_human), draw_contours(contours_robot)\n",
    "    \n",
    "\n",
    "data, frame, camera = \"2_1_2\", 180, 3\n",
    "\n",
    "mask_human, mask_robot = organize_masks(dataset_masks, data, camera, frame)\n",
    "mask_tensor = transform_masks(mask_human, mask_robot)\n",
    "print(mask_tensor.shape)\n",
    "show_masks(mask_human)\n",
    "show_masks(mask_robot)"
   ]
  },
  {
   "cell_type": "code",
   "execution_count": 11,
   "metadata": {},
   "outputs": [
    {
     "data": {
      "text/plain": [
       "(256, 256)"
      ]
     },
     "execution_count": 11,
     "metadata": {},
     "output_type": "execute_result"
    }
   ],
   "source": [
    "mask_robot.shape"
   ]
  },
  {
   "cell_type": "code",
   "execution_count": 24,
   "metadata": {},
   "outputs": [],
   "source": [
    "cu = [[[[132, 220]], [[132, 221]], [[133, 222]], [[133, 223]], [[134, 224]], [[134, 225]], [[136, 227]], [[138, 227]], [[138, 226]], [[139, 225]], [[139, 222]], [[135, 222]], [[134, 221]], [[133, 221]]], [[[209, 114]], [[208, 115]], [[207, 115]], [[204, 118]], [[204, 119]], [[202, 121]], [[202, 123]], [[201, 124]], [[201, 125]], [[200, 126]], [[200, 129]], [[199, 130]], [[199, 132]], [[198, 133]], [[198, 136]], [[197, 137]], [[197, 138]], [[196, 139]], [[194, 139]], [[193, 140]], [[191, 140]], [[189, 142]], [[188, 142]], [[188, 143]], [[186, 145]], [[186, 146]], [[184, 148]], [[184, 150]], [[183, 151]], [[183, 152]], [[182, 153]], [[182, 154]], [[181, 155]], [[181, 156]], [[180, 157]], [[180, 159]], [[179, 160]], [[179, 179]], [[178, 180]], [[178, 207]], [[177, 208]], [[177, 213]], [[178, 214]], [[178, 254]], [[179, 255]], [[198, 255]], [[199, 254]], [[199, 253]], [[201, 251]], [[201, 250]], [[202, 249]], [[202, 248]], [[203, 247]], [[203, 245]], [[204, 244]], [[204, 243]], [[205, 242]], [[205, 240]], [[206, 239]], [[206, 238]], [[208, 236]], [[208, 233]], [[209, 232]], [[209, 223]], [[211, 221]], [[211, 220]], [[217, 214]], [[217, 213]], [[218, 212]], [[218, 211]], [[219, 210]], [[219, 208]], [[221, 206]], [[221, 205]], [[222, 204]], [[222, 202]], [[223, 201]], [[223, 178]], [[222, 177]], [[222, 169]], [[221, 168]], [[221, 165]], [[220, 164]], [[220, 163]], [[219, 162]], [[219, 159]], [[218, 158]], [[218, 156]], [[217, 155]], [[217, 140]], [[218, 139]], [[218, 124]], [[217, 123]], [[217, 120]], [[215, 118]], [[215, 117]], [[213, 115]], [[211, 115]], [[210, 114]]]]"
   ]
  },
  {
   "cell_type": "code",
   "execution_count": 25,
   "metadata": {},
   "outputs": [
    {
     "data": {
      "text/plain": [
       "2"
      ]
     },
     "execution_count": 25,
     "metadata": {},
     "output_type": "execute_result"
    }
   ],
   "source": [
    "len(cu)"
   ]
  }
 ],
 "metadata": {
  "kernelspec": {
   "display_name": "iago",
   "language": "python",
   "name": "python3"
  },
  "language_info": {
   "codemirror_mode": {
    "name": "ipython",
    "version": 3
   },
   "file_extension": ".py",
   "mimetype": "text/x-python",
   "name": "python",
   "nbconvert_exporter": "python",
   "pygments_lexer": "ipython3",
   "version": "3.6.7"
  }
 },
 "nbformat": 4,
 "nbformat_minor": 2
}
